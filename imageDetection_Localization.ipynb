{
  "nbformat": 4,
  "nbformat_minor": 0,
  "metadata": {
    "colab": {
      "provenance": [],
      "authorship_tag": "ABX9TyOJj7viCF89ZUu6f1r1W6gc",
      "include_colab_link": true
    },
    "kernelspec": {
      "name": "python3",
      "display_name": "Python 3"
    },
    "language_info": {
      "name": "python"
    },
    "accelerator": "GPU",
    "gpuClass": "standard"
  },
  "cells": [
    {
      "cell_type": "markdown",
      "metadata": {
        "id": "view-in-github",
        "colab_type": "text"
      },
      "source": [
        "<a href=\"https://colab.research.google.com/github/rohan-singh987/imageDetection-Loacalization/blob/rohan/imageDetection_Localization.ipynb\" target=\"_parent\"><img src=\"https://colab.research.google.com/assets/colab-badge.svg\" alt=\"Open In Colab\"/></a>"
      ]
    },
    {
      "cell_type": "code",
      "execution_count": 1,
      "metadata": {
        "colab": {
          "base_uri": "https://localhost:8080/"
        },
        "id": "saMd_ScIBgSU",
        "outputId": "052beb58-814d-455d-d129-8d65cd2a642d"
      },
      "outputs": [
        {
          "output_type": "stream",
          "name": "stdout",
          "text": [
            "Cloning into 'synthetic_datasets'...\n",
            "remote: Enumerating objects: 42, done.\u001b[K\n",
            "remote: Counting objects: 100% (3/3), done.\u001b[K\n",
            "remote: Compressing objects: 100% (2/2), done.\u001b[K\n",
            "remote: Total 42 (delta 1), reused 1 (delta 1), pack-reused 39\u001b[K\n",
            "Unpacking objects: 100% (42/42), 42.06 MiB | 3.85 MiB/s, done.\n",
            "/content/synthetic_datasets/MNIST\n"
          ]
        }
      ],
      "source": [
        "!git clone https://github.com/ayulockin/synthetic_datasets\n",
        "%cd synthetic_datasets/MNIST/\n",
        "%mkdir images\n",
        "\n",
        "\n",
        "!unzip -q MNIST_Converted_Training.zip -d images/\n",
        "!unzip -q MNIST_Converted_Testing.zip -d images/"
      ]
    },
    {
      "cell_type": "code",
      "source": [
        "%cd ../.."
      ],
      "metadata": {
        "colab": {
          "base_uri": "https://localhost:8080/"
        },
        "id": "GFny8HCBBwNF",
        "outputId": "e3547dde-d94c-44f2-ce49-74b2704e0868"
      },
      "execution_count": 2,
      "outputs": [
        {
          "output_type": "stream",
          "name": "stdout",
          "text": [
            "/content\n"
          ]
        }
      ]
    },
    {
      "cell_type": "code",
      "source": [],
      "metadata": {
        "id": "yQ-3fXL7B6mk"
      },
      "execution_count": null,
      "outputs": []
    }
  ]
}