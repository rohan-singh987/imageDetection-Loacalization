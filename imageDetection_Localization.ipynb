{
  "nbformat": 4,
  "nbformat_minor": 0,
  "metadata": {
    "colab": {
      "provenance": [],
      "toc_visible": true,
      "authorship_tag": "ABX9TyOQe5b01M7HIFq2OEChPpaZ",
      "include_colab_link": true
    },
    "kernelspec": {
      "name": "python3",
      "display_name": "Python 3"
    },
    "language_info": {
      "name": "python"
    },
    "gpuClass": "standard"
  },
  "cells": [
    {
      "cell_type": "markdown",
      "metadata": {
        "id": "view-in-github",
        "colab_type": "text"
      },
      "source": [
        "<a href=\"https://colab.research.google.com/github/rohan-singh987/imageDetection-Loacalization/blob/rohan/imageDetection_Localization.ipynb\" target=\"_parent\"><img src=\"https://colab.research.google.com/assets/colab-badge.svg\" alt=\"Open In Colab\"/></a>"
      ]
    },
    {
      "cell_type": "markdown",
      "source": [
        "# Downloading Dataset from github"
      ],
      "metadata": {
        "id": "dpAqj3_WWvok"
      }
    },
    {
      "cell_type": "code",
      "execution_count": 9,
      "metadata": {
        "colab": {
          "base_uri": "https://localhost:8080/"
        },
        "id": "saMd_ScIBgSU",
        "outputId": "e5ac06bc-d4e5-4d29-85c3-901b8349192b"
      },
      "outputs": [
        {
          "output_type": "stream",
          "name": "stdout",
          "text": [
            "fatal: destination path 'synthetic_datasets' already exists and is not an empty directory.\n",
            "/content/synthetic_datasets/MNIST\n",
            "mkdir: cannot create directory ‘images’: File exists\n",
            "replace images/MNIST_Converted_Training/converted_training14272.png? [y]es, [n]o, [A]ll, [N]one, [r]ename: y\n",
            "replace images/MNIST_Converted_Training/converted_training24655.png? [y]es, [n]o, [A]ll, [N]one, [r]ename: y\n",
            "replace images/MNIST_Converted_Training/converted_training21802.png? [y]es, [n]o, [A]ll, [N]one, [r]ename: y\n",
            "replace images/MNIST_Converted_Training/converted_training52090.png? [y]es, [n]o, [A]ll, [N]one, [r]ename: y\n",
            "replace images/MNIST_Converted_Training/converted_training59447.png? [y]es, [n]o, [A]ll, [N]one, [r]ename: y\n",
            "replace images/MNIST_Converted_Training/converted_training23567.png? [y]es, [n]o, [A]ll, [N]one, [r]ename: replace images/MNIST_Converted_Testing/converted_testing6478.png? [y]es, [n]o, [A]ll, [N]one, [r]ename: "
          ]
        }
      ],
      "source": [
        "!git clone https://github.com/ayulockin/synthetic_datasets\n",
        "%cd synthetic_datasets/MNIST/\n",
        "%mkdir images\n",
        "\n",
        "\n",
        "!unzip -q MNIST_Converted_Training.zip -d images/\n",
        "!unzip -q MNIST_Converted_Testing.zip -d images/"
      ]
    },
    {
      "cell_type": "code",
      "source": [
        "%cd ../.."
      ],
      "metadata": {
        "id": "GFny8HCBBwNF",
        "colab": {
          "base_uri": "https://localhost:8080/"
        },
        "outputId": "b04d1f68-f8cf-4065-db15-bf5d8ea57d53"
      },
      "execution_count": 10,
      "outputs": [
        {
          "output_type": "stream",
          "name": "stdout",
          "text": [
            "/content\n"
          ]
        }
      ]
    },
    {
      "cell_type": "markdown",
      "source": [
        "# Reading Data"
      ],
      "metadata": {
        "id": "YfWZYbhIW4Iw"
      }
    },
    {
      "cell_type": "code",
      "source": [
        "import pandas as pd\n",
        "import numpy as np\n",
        "import matplotlib.pyplot as plt\n",
        "from os import path"
      ],
      "metadata": {
        "id": "yQ-3fXL7B6mk"
      },
      "execution_count": 11,
      "outputs": []
    },
    {
      "cell_type": "code",
      "source": [
        "import tensorflow as tf"
      ],
      "metadata": {
        "id": "X-ejGxPoMTvs"
      },
      "execution_count": null,
      "outputs": []
    },
    {
      "cell_type": "code",
      "source": [
        "S = 'synthetic_datasets'\n",
        "M = 'MNIST'\n",
        "I = 'images'\n",
        "\n",
        "\n",
        "data = pd.read_csv(path.join(S,M,'training_data.csv'), header = None)\n",
        "columns = ['path', 'class_index', 'xmin', 'ymin', 'xmax', 'ymax']\n",
        "data.columns = columns\n",
        "\n",
        "testData = pd.read_csv(path.join(S,M,'test_data.csv'), header=None)\n",
        "testData.columns = columns\n",
        "\n",
        "t = 'MNIST_Converted_Training'\n",
        "data['path'] = data['path'].apply(lambda x: path.join(S,M,I,t,x))\n",
        "\n",
        "t = 'MNIST_Converted_Testing'\n",
        "testData['path'] = testData['path'].apply(lambda x: path.join(S,M,I,t,x))\n"
      ],
      "metadata": {
        "id": "6uM2mLYrMXKp"
      },
      "execution_count": 18,
      "outputs": []
    },
    {
      "cell_type": "code",
      "source": [
        "data"
      ],
      "metadata": {
        "id": "jJeV7X8uNF2x",
        "colab": {
          "base_uri": "https://localhost:8080/",
          "height": 424
        },
        "outputId": "49ab7a3c-a3ba-480d-aebb-f90b282ee194"
      },
      "execution_count": 19,
      "outputs": [
        {
          "output_type": "execute_result",
          "data": {
            "text/plain": [
              "                                                    path  class_index  xmin  \\\n",
              "0      synthetic_datasets/MNIST/images/MNIST_Converte...            4  0.49   \n",
              "1      synthetic_datasets/MNIST/images/MNIST_Converte...            1  0.64   \n",
              "2      synthetic_datasets/MNIST/images/MNIST_Converte...            0  0.42   \n",
              "3      synthetic_datasets/MNIST/images/MNIST_Converte...            7  0.58   \n",
              "4      synthetic_datasets/MNIST/images/MNIST_Converte...            8  0.21   \n",
              "...                                                  ...          ...   ...   \n",
              "59995  synthetic_datasets/MNIST/images/MNIST_Converte...            7  0.32   \n",
              "59996  synthetic_datasets/MNIST/images/MNIST_Converte...            1  0.48   \n",
              "59997  synthetic_datasets/MNIST/images/MNIST_Converte...            6  0.22   \n",
              "59998  synthetic_datasets/MNIST/images/MNIST_Converte...            1  0.39   \n",
              "59999  synthetic_datasets/MNIST/images/MNIST_Converte...            5  0.16   \n",
              "\n",
              "       ymin  xmax  ymax  \n",
              "0      0.15  0.77  0.43  \n",
              "1      0.26  0.92  0.54  \n",
              "2      0.39  0.70  0.67  \n",
              "3      0.10  0.86  0.38  \n",
              "4      0.23  0.49  0.51  \n",
              "...     ...   ...   ...  \n",
              "59995  0.58  0.60  0.86  \n",
              "59996  0.33  0.76  0.61  \n",
              "59997  0.06  0.50  0.34  \n",
              "59998  0.23  0.67  0.51  \n",
              "59999  0.21  0.44  0.49  \n",
              "\n",
              "[60000 rows x 6 columns]"
            ],
            "text/html": [
              "\n",
              "  <div id=\"df-b1b0f594-80c0-42e7-96a2-46656c63ffef\">\n",
              "    <div class=\"colab-df-container\">\n",
              "      <div>\n",
              "<style scoped>\n",
              "    .dataframe tbody tr th:only-of-type {\n",
              "        vertical-align: middle;\n",
              "    }\n",
              "\n",
              "    .dataframe tbody tr th {\n",
              "        vertical-align: top;\n",
              "    }\n",
              "\n",
              "    .dataframe thead th {\n",
              "        text-align: right;\n",
              "    }\n",
              "</style>\n",
              "<table border=\"1\" class=\"dataframe\">\n",
              "  <thead>\n",
              "    <tr style=\"text-align: right;\">\n",
              "      <th></th>\n",
              "      <th>path</th>\n",
              "      <th>class_index</th>\n",
              "      <th>xmin</th>\n",
              "      <th>ymin</th>\n",
              "      <th>xmax</th>\n",
              "      <th>ymax</th>\n",
              "    </tr>\n",
              "  </thead>\n",
              "  <tbody>\n",
              "    <tr>\n",
              "      <th>0</th>\n",
              "      <td>synthetic_datasets/MNIST/images/MNIST_Converte...</td>\n",
              "      <td>4</td>\n",
              "      <td>0.49</td>\n",
              "      <td>0.15</td>\n",
              "      <td>0.77</td>\n",
              "      <td>0.43</td>\n",
              "    </tr>\n",
              "    <tr>\n",
              "      <th>1</th>\n",
              "      <td>synthetic_datasets/MNIST/images/MNIST_Converte...</td>\n",
              "      <td>1</td>\n",
              "      <td>0.64</td>\n",
              "      <td>0.26</td>\n",
              "      <td>0.92</td>\n",
              "      <td>0.54</td>\n",
              "    </tr>\n",
              "    <tr>\n",
              "      <th>2</th>\n",
              "      <td>synthetic_datasets/MNIST/images/MNIST_Converte...</td>\n",
              "      <td>0</td>\n",
              "      <td>0.42</td>\n",
              "      <td>0.39</td>\n",
              "      <td>0.70</td>\n",
              "      <td>0.67</td>\n",
              "    </tr>\n",
              "    <tr>\n",
              "      <th>3</th>\n",
              "      <td>synthetic_datasets/MNIST/images/MNIST_Converte...</td>\n",
              "      <td>7</td>\n",
              "      <td>0.58</td>\n",
              "      <td>0.10</td>\n",
              "      <td>0.86</td>\n",
              "      <td>0.38</td>\n",
              "    </tr>\n",
              "    <tr>\n",
              "      <th>4</th>\n",
              "      <td>synthetic_datasets/MNIST/images/MNIST_Converte...</td>\n",
              "      <td>8</td>\n",
              "      <td>0.21</td>\n",
              "      <td>0.23</td>\n",
              "      <td>0.49</td>\n",
              "      <td>0.51</td>\n",
              "    </tr>\n",
              "    <tr>\n",
              "      <th>...</th>\n",
              "      <td>...</td>\n",
              "      <td>...</td>\n",
              "      <td>...</td>\n",
              "      <td>...</td>\n",
              "      <td>...</td>\n",
              "      <td>...</td>\n",
              "    </tr>\n",
              "    <tr>\n",
              "      <th>59995</th>\n",
              "      <td>synthetic_datasets/MNIST/images/MNIST_Converte...</td>\n",
              "      <td>7</td>\n",
              "      <td>0.32</td>\n",
              "      <td>0.58</td>\n",
              "      <td>0.60</td>\n",
              "      <td>0.86</td>\n",
              "    </tr>\n",
              "    <tr>\n",
              "      <th>59996</th>\n",
              "      <td>synthetic_datasets/MNIST/images/MNIST_Converte...</td>\n",
              "      <td>1</td>\n",
              "      <td>0.48</td>\n",
              "      <td>0.33</td>\n",
              "      <td>0.76</td>\n",
              "      <td>0.61</td>\n",
              "    </tr>\n",
              "    <tr>\n",
              "      <th>59997</th>\n",
              "      <td>synthetic_datasets/MNIST/images/MNIST_Converte...</td>\n",
              "      <td>6</td>\n",
              "      <td>0.22</td>\n",
              "      <td>0.06</td>\n",
              "      <td>0.50</td>\n",
              "      <td>0.34</td>\n",
              "    </tr>\n",
              "    <tr>\n",
              "      <th>59998</th>\n",
              "      <td>synthetic_datasets/MNIST/images/MNIST_Converte...</td>\n",
              "      <td>1</td>\n",
              "      <td>0.39</td>\n",
              "      <td>0.23</td>\n",
              "      <td>0.67</td>\n",
              "      <td>0.51</td>\n",
              "    </tr>\n",
              "    <tr>\n",
              "      <th>59999</th>\n",
              "      <td>synthetic_datasets/MNIST/images/MNIST_Converte...</td>\n",
              "      <td>5</td>\n",
              "      <td>0.16</td>\n",
              "      <td>0.21</td>\n",
              "      <td>0.44</td>\n",
              "      <td>0.49</td>\n",
              "    </tr>\n",
              "  </tbody>\n",
              "</table>\n",
              "<p>60000 rows × 6 columns</p>\n",
              "</div>\n",
              "      <button class=\"colab-df-convert\" onclick=\"convertToInteractive('df-b1b0f594-80c0-42e7-96a2-46656c63ffef')\"\n",
              "              title=\"Convert this dataframe to an interactive table.\"\n",
              "              style=\"display:none;\">\n",
              "        \n",
              "  <svg xmlns=\"http://www.w3.org/2000/svg\" height=\"24px\"viewBox=\"0 0 24 24\"\n",
              "       width=\"24px\">\n",
              "    <path d=\"M0 0h24v24H0V0z\" fill=\"none\"/>\n",
              "    <path d=\"M18.56 5.44l.94 2.06.94-2.06 2.06-.94-2.06-.94-.94-2.06-.94 2.06-2.06.94zm-11 1L8.5 8.5l.94-2.06 2.06-.94-2.06-.94L8.5 2.5l-.94 2.06-2.06.94zm10 10l.94 2.06.94-2.06 2.06-.94-2.06-.94-.94-2.06-.94 2.06-2.06.94z\"/><path d=\"M17.41 7.96l-1.37-1.37c-.4-.4-.92-.59-1.43-.59-.52 0-1.04.2-1.43.59L10.3 9.45l-7.72 7.72c-.78.78-.78 2.05 0 2.83L4 21.41c.39.39.9.59 1.41.59.51 0 1.02-.2 1.41-.59l7.78-7.78 2.81-2.81c.8-.78.8-2.07 0-2.86zM5.41 20L4 18.59l7.72-7.72 1.47 1.35L5.41 20z\"/>\n",
              "  </svg>\n",
              "      </button>\n",
              "      \n",
              "  <style>\n",
              "    .colab-df-container {\n",
              "      display:flex;\n",
              "      flex-wrap:wrap;\n",
              "      gap: 12px;\n",
              "    }\n",
              "\n",
              "    .colab-df-convert {\n",
              "      background-color: #E8F0FE;\n",
              "      border: none;\n",
              "      border-radius: 50%;\n",
              "      cursor: pointer;\n",
              "      display: none;\n",
              "      fill: #1967D2;\n",
              "      height: 32px;\n",
              "      padding: 0 0 0 0;\n",
              "      width: 32px;\n",
              "    }\n",
              "\n",
              "    .colab-df-convert:hover {\n",
              "      background-color: #E2EBFA;\n",
              "      box-shadow: 0px 1px 2px rgba(60, 64, 67, 0.3), 0px 1px 3px 1px rgba(60, 64, 67, 0.15);\n",
              "      fill: #174EA6;\n",
              "    }\n",
              "\n",
              "    [theme=dark] .colab-df-convert {\n",
              "      background-color: #3B4455;\n",
              "      fill: #D2E3FC;\n",
              "    }\n",
              "\n",
              "    [theme=dark] .colab-df-convert:hover {\n",
              "      background-color: #434B5C;\n",
              "      box-shadow: 0px 1px 3px 1px rgba(0, 0, 0, 0.15);\n",
              "      filter: drop-shadow(0px 1px 2px rgba(0, 0, 0, 0.3));\n",
              "      fill: #FFFFFF;\n",
              "    }\n",
              "  </style>\n",
              "\n",
              "      <script>\n",
              "        const buttonEl =\n",
              "          document.querySelector('#df-b1b0f594-80c0-42e7-96a2-46656c63ffef button.colab-df-convert');\n",
              "        buttonEl.style.display =\n",
              "          google.colab.kernel.accessAllowed ? 'block' : 'none';\n",
              "\n",
              "        async function convertToInteractive(key) {\n",
              "          const element = document.querySelector('#df-b1b0f594-80c0-42e7-96a2-46656c63ffef');\n",
              "          const dataTable =\n",
              "            await google.colab.kernel.invokeFunction('convertToInteractive',\n",
              "                                                     [key], {});\n",
              "          if (!dataTable) return;\n",
              "\n",
              "          const docLinkHtml = 'Like what you see? Visit the ' +\n",
              "            '<a target=\"_blank\" href=https://colab.research.google.com/notebooks/data_table.ipynb>data table notebook</a>'\n",
              "            + ' to learn more about interactive tables.';\n",
              "          element.innerHTML = '';\n",
              "          dataTable['output_type'] = 'display_data';\n",
              "          await google.colab.output.renderOutput(dataTable, element);\n",
              "          const docLink = document.createElement('div');\n",
              "          docLink.innerHTML = docLinkHtml;\n",
              "          element.appendChild(docLink);\n",
              "        }\n",
              "      </script>\n",
              "    </div>\n",
              "  </div>\n",
              "  "
            ]
          },
          "metadata": {},
          "execution_count": 19
        }
      ]
    },
    {
      "cell_type": "code",
      "source": [
        "testData"
      ],
      "metadata": {
        "id": "KXtAYi_4NTQS",
        "colab": {
          "base_uri": "https://localhost:8080/",
          "height": 424
        },
        "outputId": "428e6806-7bf4-4057-9808-03a0d3505583"
      },
      "execution_count": 21,
      "outputs": [
        {
          "output_type": "execute_result",
          "data": {
            "text/plain": [
              "                                                   path  class_index  xmin  \\\n",
              "0     synthetic_datasets/MNIST/images/MNIST_Converte...            2  0.20   \n",
              "1     synthetic_datasets/MNIST/images/MNIST_Converte...            0  0.02   \n",
              "2     synthetic_datasets/MNIST/images/MNIST_Converte...            4  0.55   \n",
              "3     synthetic_datasets/MNIST/images/MNIST_Converte...            8  0.38   \n",
              "4     synthetic_datasets/MNIST/images/MNIST_Converte...            7  0.69   \n",
              "...                                                 ...          ...   ...   \n",
              "9995  synthetic_datasets/MNIST/images/MNIST_Converte...            5  0.46   \n",
              "9996  synthetic_datasets/MNIST/images/MNIST_Converte...            9  0.54   \n",
              "9997  synthetic_datasets/MNIST/images/MNIST_Converte...            8  0.50   \n",
              "9998  synthetic_datasets/MNIST/images/MNIST_Converte...            0  0.62   \n",
              "9999  synthetic_datasets/MNIST/images/MNIST_Converte...            5  0.41   \n",
              "\n",
              "      ymin  xmax  ymax  \n",
              "0     0.45  0.48  0.73  \n",
              "1     0.03  0.30  0.31  \n",
              "2     0.39  0.83  0.67  \n",
              "3     0.42  0.66  0.70  \n",
              "4     0.17  0.97  0.45  \n",
              "...    ...   ...   ...  \n",
              "9995  0.34  0.74  0.62  \n",
              "9996  0.25  0.82  0.53  \n",
              "9997  0.32  0.78  0.60  \n",
              "9998  0.61  0.90  0.89  \n",
              "9999  0.53  0.69  0.81  \n",
              "\n",
              "[10000 rows x 6 columns]"
            ],
            "text/html": [
              "\n",
              "  <div id=\"df-2b30c2c1-c4a6-43cf-b62d-652b1875ad86\">\n",
              "    <div class=\"colab-df-container\">\n",
              "      <div>\n",
              "<style scoped>\n",
              "    .dataframe tbody tr th:only-of-type {\n",
              "        vertical-align: middle;\n",
              "    }\n",
              "\n",
              "    .dataframe tbody tr th {\n",
              "        vertical-align: top;\n",
              "    }\n",
              "\n",
              "    .dataframe thead th {\n",
              "        text-align: right;\n",
              "    }\n",
              "</style>\n",
              "<table border=\"1\" class=\"dataframe\">\n",
              "  <thead>\n",
              "    <tr style=\"text-align: right;\">\n",
              "      <th></th>\n",
              "      <th>path</th>\n",
              "      <th>class_index</th>\n",
              "      <th>xmin</th>\n",
              "      <th>ymin</th>\n",
              "      <th>xmax</th>\n",
              "      <th>ymax</th>\n",
              "    </tr>\n",
              "  </thead>\n",
              "  <tbody>\n",
              "    <tr>\n",
              "      <th>0</th>\n",
              "      <td>synthetic_datasets/MNIST/images/MNIST_Converte...</td>\n",
              "      <td>2</td>\n",
              "      <td>0.20</td>\n",
              "      <td>0.45</td>\n",
              "      <td>0.48</td>\n",
              "      <td>0.73</td>\n",
              "    </tr>\n",
              "    <tr>\n",
              "      <th>1</th>\n",
              "      <td>synthetic_datasets/MNIST/images/MNIST_Converte...</td>\n",
              "      <td>0</td>\n",
              "      <td>0.02</td>\n",
              "      <td>0.03</td>\n",
              "      <td>0.30</td>\n",
              "      <td>0.31</td>\n",
              "    </tr>\n",
              "    <tr>\n",
              "      <th>2</th>\n",
              "      <td>synthetic_datasets/MNIST/images/MNIST_Converte...</td>\n",
              "      <td>4</td>\n",
              "      <td>0.55</td>\n",
              "      <td>0.39</td>\n",
              "      <td>0.83</td>\n",
              "      <td>0.67</td>\n",
              "    </tr>\n",
              "    <tr>\n",
              "      <th>3</th>\n",
              "      <td>synthetic_datasets/MNIST/images/MNIST_Converte...</td>\n",
              "      <td>8</td>\n",
              "      <td>0.38</td>\n",
              "      <td>0.42</td>\n",
              "      <td>0.66</td>\n",
              "      <td>0.70</td>\n",
              "    </tr>\n",
              "    <tr>\n",
              "      <th>4</th>\n",
              "      <td>synthetic_datasets/MNIST/images/MNIST_Converte...</td>\n",
              "      <td>7</td>\n",
              "      <td>0.69</td>\n",
              "      <td>0.17</td>\n",
              "      <td>0.97</td>\n",
              "      <td>0.45</td>\n",
              "    </tr>\n",
              "    <tr>\n",
              "      <th>...</th>\n",
              "      <td>...</td>\n",
              "      <td>...</td>\n",
              "      <td>...</td>\n",
              "      <td>...</td>\n",
              "      <td>...</td>\n",
              "      <td>...</td>\n",
              "    </tr>\n",
              "    <tr>\n",
              "      <th>9995</th>\n",
              "      <td>synthetic_datasets/MNIST/images/MNIST_Converte...</td>\n",
              "      <td>5</td>\n",
              "      <td>0.46</td>\n",
              "      <td>0.34</td>\n",
              "      <td>0.74</td>\n",
              "      <td>0.62</td>\n",
              "    </tr>\n",
              "    <tr>\n",
              "      <th>9996</th>\n",
              "      <td>synthetic_datasets/MNIST/images/MNIST_Converte...</td>\n",
              "      <td>9</td>\n",
              "      <td>0.54</td>\n",
              "      <td>0.25</td>\n",
              "      <td>0.82</td>\n",
              "      <td>0.53</td>\n",
              "    </tr>\n",
              "    <tr>\n",
              "      <th>9997</th>\n",
              "      <td>synthetic_datasets/MNIST/images/MNIST_Converte...</td>\n",
              "      <td>8</td>\n",
              "      <td>0.50</td>\n",
              "      <td>0.32</td>\n",
              "      <td>0.78</td>\n",
              "      <td>0.60</td>\n",
              "    </tr>\n",
              "    <tr>\n",
              "      <th>9998</th>\n",
              "      <td>synthetic_datasets/MNIST/images/MNIST_Converte...</td>\n",
              "      <td>0</td>\n",
              "      <td>0.62</td>\n",
              "      <td>0.61</td>\n",
              "      <td>0.90</td>\n",
              "      <td>0.89</td>\n",
              "    </tr>\n",
              "    <tr>\n",
              "      <th>9999</th>\n",
              "      <td>synthetic_datasets/MNIST/images/MNIST_Converte...</td>\n",
              "      <td>5</td>\n",
              "      <td>0.41</td>\n",
              "      <td>0.53</td>\n",
              "      <td>0.69</td>\n",
              "      <td>0.81</td>\n",
              "    </tr>\n",
              "  </tbody>\n",
              "</table>\n",
              "<p>10000 rows × 6 columns</p>\n",
              "</div>\n",
              "      <button class=\"colab-df-convert\" onclick=\"convertToInteractive('df-2b30c2c1-c4a6-43cf-b62d-652b1875ad86')\"\n",
              "              title=\"Convert this dataframe to an interactive table.\"\n",
              "              style=\"display:none;\">\n",
              "        \n",
              "  <svg xmlns=\"http://www.w3.org/2000/svg\" height=\"24px\"viewBox=\"0 0 24 24\"\n",
              "       width=\"24px\">\n",
              "    <path d=\"M0 0h24v24H0V0z\" fill=\"none\"/>\n",
              "    <path d=\"M18.56 5.44l.94 2.06.94-2.06 2.06-.94-2.06-.94-.94-2.06-.94 2.06-2.06.94zm-11 1L8.5 8.5l.94-2.06 2.06-.94-2.06-.94L8.5 2.5l-.94 2.06-2.06.94zm10 10l.94 2.06.94-2.06 2.06-.94-2.06-.94-.94-2.06-.94 2.06-2.06.94z\"/><path d=\"M17.41 7.96l-1.37-1.37c-.4-.4-.92-.59-1.43-.59-.52 0-1.04.2-1.43.59L10.3 9.45l-7.72 7.72c-.78.78-.78 2.05 0 2.83L4 21.41c.39.39.9.59 1.41.59.51 0 1.02-.2 1.41-.59l7.78-7.78 2.81-2.81c.8-.78.8-2.07 0-2.86zM5.41 20L4 18.59l7.72-7.72 1.47 1.35L5.41 20z\"/>\n",
              "  </svg>\n",
              "      </button>\n",
              "      \n",
              "  <style>\n",
              "    .colab-df-container {\n",
              "      display:flex;\n",
              "      flex-wrap:wrap;\n",
              "      gap: 12px;\n",
              "    }\n",
              "\n",
              "    .colab-df-convert {\n",
              "      background-color: #E8F0FE;\n",
              "      border: none;\n",
              "      border-radius: 50%;\n",
              "      cursor: pointer;\n",
              "      display: none;\n",
              "      fill: #1967D2;\n",
              "      height: 32px;\n",
              "      padding: 0 0 0 0;\n",
              "      width: 32px;\n",
              "    }\n",
              "\n",
              "    .colab-df-convert:hover {\n",
              "      background-color: #E2EBFA;\n",
              "      box-shadow: 0px 1px 2px rgba(60, 64, 67, 0.3), 0px 1px 3px 1px rgba(60, 64, 67, 0.15);\n",
              "      fill: #174EA6;\n",
              "    }\n",
              "\n",
              "    [theme=dark] .colab-df-convert {\n",
              "      background-color: #3B4455;\n",
              "      fill: #D2E3FC;\n",
              "    }\n",
              "\n",
              "    [theme=dark] .colab-df-convert:hover {\n",
              "      background-color: #434B5C;\n",
              "      box-shadow: 0px 1px 3px 1px rgba(0, 0, 0, 0.15);\n",
              "      filter: drop-shadow(0px 1px 2px rgba(0, 0, 0, 0.3));\n",
              "      fill: #FFFFFF;\n",
              "    }\n",
              "  </style>\n",
              "\n",
              "      <script>\n",
              "        const buttonEl =\n",
              "          document.querySelector('#df-2b30c2c1-c4a6-43cf-b62d-652b1875ad86 button.colab-df-convert');\n",
              "        buttonEl.style.display =\n",
              "          google.colab.kernel.accessAllowed ? 'block' : 'none';\n",
              "\n",
              "        async function convertToInteractive(key) {\n",
              "          const element = document.querySelector('#df-2b30c2c1-c4a6-43cf-b62d-652b1875ad86');\n",
              "          const dataTable =\n",
              "            await google.colab.kernel.invokeFunction('convertToInteractive',\n",
              "                                                     [key], {});\n",
              "          if (!dataTable) return;\n",
              "\n",
              "          const docLinkHtml = 'Like what you see? Visit the ' +\n",
              "            '<a target=\"_blank\" href=https://colab.research.google.com/notebooks/data_table.ipynb>data table notebook</a>'\n",
              "            + ' to learn more about interactive tables.';\n",
              "          element.innerHTML = '';\n",
              "          dataTable['output_type'] = 'display_data';\n",
              "          await google.colab.output.renderOutput(dataTable, element);\n",
              "          const docLink = document.createElement('div');\n",
              "          docLink.innerHTML = docLinkHtml;\n",
              "          element.appendChild(docLink);\n",
              "        }\n",
              "      </script>\n",
              "    </div>\n",
              "  </div>\n",
              "  "
            ]
          },
          "metadata": {},
          "execution_count": 21
        }
      ]
    },
    {
      "cell_type": "code",
      "source": [
        "data_row1 = data.iloc[0].to_numpy().tolist()\n",
        "\n",
        "data_row1"
      ],
      "metadata": {
        "id": "I-knmwtjArim",
        "colab": {
          "base_uri": "https://localhost:8080/"
        },
        "outputId": "36f474a0-a30d-4052-d12c-5314fb5c4554"
      },
      "execution_count": 22,
      "outputs": [
        {
          "output_type": "execute_result",
          "data": {
            "text/plain": [
              "['synthetic_datasets/MNIST/images/MNIST_Converted_Training/converted_training1.png',\n",
              " 4,\n",
              " 0.49,\n",
              " 0.15,\n",
              " 0.77,\n",
              " 0.43]"
            ]
          },
          "metadata": {},
          "execution_count": 22
        }
      ]
    },
    {
      "cell_type": "markdown",
      "source": [
        "## Visualizing Data"
      ],
      "metadata": {
        "id": "HWZ_K9IVZNjA"
      }
    },
    {
      "cell_type": "code",
      "source": [
        "def visualizeImage(imagepath):\n",
        "  image = tf.io.read_file(imagepath)\n",
        "  image = tf.image.decode_png(image, channels=1)\n",
        "\n",
        "# Transfer Learning model always expect 3Channel RGB image\n",
        "  image = tf.image.grayscale_to_rgb(image)\n",
        "  image = image.numpy().astype(np.uint8)\n",
        "  return image\n",
        "\n",
        "plt.imshow(visualizeImage(data_row1[0]))"
      ],
      "metadata": {
        "colab": {
          "base_uri": "https://localhost:8080/",
          "height": 286
        },
        "id": "tHjIKWbCZCaw",
        "outputId": "e30ff03f-45ef-4438-a0c1-14dc5a23aca7"
      },
      "execution_count": 26,
      "outputs": [
        {
          "output_type": "execute_result",
          "data": {
            "text/plain": [
              "<matplotlib.image.AxesImage at 0x7f2897b410a0>"
            ]
          },
          "metadata": {},
          "execution_count": 26
        },
        {
          "output_type": "display_data",
          "data": {
            "text/plain": [
              "<Figure size 432x288 with 1 Axes>"
            ],
            "image/png": "[encoded data removed]"
          },
          "metadata": {
            "needs_background": "light"
          }
        }
      ]
    },
    {
      "cell_type": "markdown",
      "source": [
        "## Adding Pathches around image"
      ],
      "metadata": {
        "id": "dn1OgNfQcgxL"
      }
    },
    {
      "cell_type": "code",
      "source": [
        "import matplotlib.patches as patches\n",
        "from PIL import Image\n",
        "\n",
        "imagee = visualizeImage(data_row1[0])\n",
        "fig, ax = plt.subplots()\n",
        "ax.imshow(imagee)\n",
        "\n",
        "x1, y1, x2, y2 = [int(value*100) for value in data_row1[2:]]\n",
        "print(x1, y1, x2, y2)\n",
        "\n",
        "width = x2-x1\n",
        "height = y2-y1\n",
        "\n",
        "print(f'width: {width}, height: {height}')\n",
        "patchBox = patches.Rectangle((x1,y1), width, height, linewidth=1, edgecolor='r', facecolor='none' )\n",
        "\n",
        "ax.add_patch(patchBox)\n",
        "\n",
        "plt.show()"
      ],
      "metadata": {
        "colab": {
          "base_uri": "https://localhost:8080/",
          "height": 304
        },
        "id": "S1LzGHJ7amwL",
        "outputId": "51777d2b-6c0b-4aad-9454-3815ab60edfd"
      },
      "execution_count": 30,
      "outputs": [
        {
          "output_type": "stream",
          "name": "stdout",
          "text": [
            "49 15 77 43\n",
            "width: 28, height: 28\n"
          ]
        },
        {
          "output_type": "display_data",
          "data": {
            "text/plain": [
              "<Figure size 432x288 with 1 Axes>"
            ],
            "image/png": "[encoded data removed]"
          },
          "metadata": {
            "needs_background": "light"
          }
        }
      ]
    },
    {
      "cell_type": "markdown",
      "source": [
        "## Check and Fix Balancing Issues"
      ],
      "metadata": {
        "id": "SnYIJhI-e_HS"
      }
    },
    {
      "cell_type": "code",
      "source": [
        "len(data)"
      ],
      "metadata": {
        "colab": {
          "base_uri": "https://localhost:8080/"
        },
        "id": "oTeP9IPped6p",
        "outputId": "a37f7e24-2cef-4ffd-a558-4c1f8d3f7e6c"
      },
      "execution_count": 31,
      "outputs": [
        {
          "output_type": "execute_result",
          "data": {
            "text/plain": [
              "60000"
            ]
          },
          "metadata": {},
          "execution_count": 31
        }
      ]
    },
    {
      "cell_type": "code",
      "source": [
        "len(testData)"
      ],
      "metadata": {
        "colab": {
          "base_uri": "https://localhost:8080/"
        },
        "id": "cUNutiCQfH7Z",
        "outputId": "ed6f6ebf-0a03-4ef3-88e5-59a7019102f8"
      },
      "execution_count": 32,
      "outputs": [
        {
          "output_type": "execute_result",
          "data": {
            "text/plain": [
              "10000"
            ]
          },
          "metadata": {},
          "execution_count": 32
        }
      ]
    },
    {
      "cell_type": "code",
      "source": [
        "data['class_index'].value_counts()"
      ],
      "metadata": {
        "colab": {
          "base_uri": "https://localhost:8080/"
        },
        "id": "NeRztfIHfJ67",
        "outputId": "16da1941-5b3d-4a52-eced-bdc2ce7e8f73"
      },
      "execution_count": 33,
      "outputs": [
        {
          "output_type": "execute_result",
          "data": {
            "text/plain": [
              "1    6742\n",
              "7    6265\n",
              "3    6131\n",
              "2    5958\n",
              "9    5949\n",
              "0    5923\n",
              "6    5918\n",
              "8    5851\n",
              "4    5842\n",
              "5    5421\n",
              "Name: class_index, dtype: int64"
            ]
          },
          "metadata": {},
          "execution_count": 33
        }
      ]
    },
    {
      "cell_type": "markdown",
      "source": [
        "### Split Test data into TestData and ValidationData"
      ],
      "metadata": {
        "id": "9bxUNtjxfqos"
      }
    },
    {
      "cell_type": "code",
      "source": [
        "valData, testData = testData[:5000], testData[5000:]"
      ],
      "metadata": {
        "id": "JB2HiUh0fU-U"
      },
      "execution_count": 34,
      "outputs": []
    },
    {
      "cell_type": "code",
      "source": [
        "len(valData), len(testData)"
      ],
      "metadata": {
        "colab": {
          "base_uri": "https://localhost:8080/"
        },
        "id": "wSFw5XJaf_84",
        "outputId": "61ecb032-fa9c-426b-f1b7-20ba11698b38"
      },
      "execution_count": 35,
      "outputs": [
        {
          "output_type": "execute_result",
          "data": {
            "text/plain": [
              "(5000, 5000)"
            ]
          },
          "metadata": {},
          "execution_count": 35
        }
      ]
    },
    {
      "cell_type": "code",
      "source": [
        "box_column = ['xmin', 'ymin', 'xmax', 'ymax']\n",
        "\n",
        "boxesTrain = data[box_column].to_numpy()\n",
        "boxesVal = valData[box_column].to_numpy()\n",
        "boxesTest = testData[box_column].to_numpy()\n",
        "\n",
        "classTrain = data['class_index'].to_numpy()\n",
        "classVal = valData['class_index'].to_numpy()\n",
        "classTest = testData['class_index'].to_numpy()"
      ],
      "metadata": {
        "id": "TSP2wdkTgEtq"
      },
      "execution_count": 37,
      "outputs": []
    },
    {
      "cell_type": "code",
      "source": [],
      "metadata": {
        "id": "miQB29Mbhq-u"
      },
      "execution_count": null,
      "outputs": []
    },
    {
      "cell_type": "code",
      "source": [],
      "metadata": {
        "id": "pGBwECkIak0J"
      },
      "execution_count": null,
      "outputs": []
    },
    {
      "cell_type": "code",
      "source": [],
      "metadata": {
        "id": "YsmTl3ejaUeB"
      },
      "execution_count": null,
      "outputs": []
    }
  ]
}